{
 "cells": [
  {
   "cell_type": "markdown",
   "metadata": {},
   "source": [
    "## Random Python Data Science Practice #27"
   ]
  },
  {
   "cell_type": "markdown",
   "metadata": {},
   "source": [
    "## List Part 2 Accessing Tuple"
   ]
  },
  {
   "cell_type": "code",
   "execution_count": 1,
   "metadata": {},
   "outputs": [
    {
     "name": "stdout",
     "output_type": "stream",
     "text": [
      "('Car', 'Motorcycle', 'Bycycle', 'Plane', 'Ship', 'Cano', 'Train', 'Truck', 'Jet', 'Helicopter')\n"
     ]
    }
   ],
   "source": [
    "# Create Tuple\n",
    "vehicle_tuple = ('Car', 'Motorcycle', 'Bycycle', 'Plane', 'Ship', 'Cano', 'Train', 'Truck', 'Jet', 'Helicopter') # --> Tuple use ()\n",
    "print(vehicle_tuple)"
   ]
  },
  {
   "cell_type": "markdown",
   "metadata": {},
   "source": [
    "## Access tuple"
   ]
  },
  {
   "cell_type": "code",
   "execution_count": 2,
   "metadata": {},
   "outputs": [
    {
     "name": "stdout",
     "output_type": "stream",
     "text": [
      "Access tuple from start until index 7 (0 - 7) ('Car', 'Motorcycle', 'Bycycle', 'Plane', 'Ship', 'Cano', 'Train')\n",
      "Access tuple from index 7 until end (7 - 10) ('Truck', 'Jet', 'Helicopter')\n",
      "Access tuple from start until end but every 2 sub-list  (0, 2, 4, 6, 8, 10) ('Car', 'Bycycle', 'Ship', 'Train', 'Jet')\n"
     ]
    }
   ],
   "source": [
    "print('Access tuple from start until index 7 (0 - 7)', vehicle_tuple[:7])\n",
    "print('Access tuple from index 7 until end (7 - 10)', vehicle_tuple[7:])\n",
    "print('Access tuple from start until end but every 2 sub-list  (0, 2, 4, 6, 8, 10)', vehicle_tuple[0:10:2])"
   ]
  },
  {
   "cell_type": "code",
   "execution_count": null,
   "metadata": {},
   "outputs": [],
   "source": []
  }
 ],
 "metadata": {
  "kernelspec": {
   "display_name": "Python 3",
   "language": "python",
   "name": "python3"
  },
  "language_info": {
   "codemirror_mode": {
    "name": "ipython",
    "version": 3
   },
   "file_extension": ".py",
   "mimetype": "text/x-python",
   "name": "python",
   "nbconvert_exporter": "python",
   "pygments_lexer": "ipython3",
   "version": "3.8.5"
  }
 },
 "nbformat": 4,
 "nbformat_minor": 4
}
